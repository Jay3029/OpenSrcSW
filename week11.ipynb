{
 "cells": [
  {
   "cell_type": "code",
   "execution_count": null,
   "id": "b567c47d",
   "metadata": {},
   "outputs": [],
   "source": [
    "#실습 6: copy\n",
    "\n",
    "a = input('파일 경로: ') \n",
    "b = input('파일 경로: ')\n",
    "    \n",
    "f = open('%s' %a, 'r', encoding=\"utf-8\")\n",
    "data = f.read()\n",
    "f.close()\n",
    "\n",
    "f = open('%s' %b,'w', encoding=\"utf-8\")\n",
    "f.write(data)\n",
    "f.close()\n"
   ]
  },
  {
   "cell_type": "code",
   "execution_count": 2,
   "id": "967e851b",
   "metadata": {},
   "outputs": [
    {
     "ename": "SyntaxError",
     "evalue": "(unicode error) 'unicodeescape' codec can't decode bytes in position 2-3: truncated \\UXXXXXXXX escape (<ipython-input-2-717170159e32>, line 8)",
     "output_type": "error",
     "traceback": [
      "\u001b[1;36m  File \u001b[1;32m\"<ipython-input-2-717170159e32>\"\u001b[1;36m, line \u001b[1;32m8\u001b[0m\n\u001b[1;33m    f = open('C:\\Users\\이재현\\OpenSourceSW%s' %a, 'r', encoding=\"utf-8\")\u001b[0m\n\u001b[1;37m                                           ^\u001b[0m\n\u001b[1;31mSyntaxError\u001b[0m\u001b[1;31m:\u001b[0m (unicode error) 'unicodeescape' codec can't decode bytes in position 2-3: truncated \\UXXXXXXXX escape\n"
     ]
    }
   ],
   "source": [
    "#실습 7: wc\n",
    "\n",
    "import sys \n",
    "\n",
    "a = input('파일 경로: ') \n",
    "\n",
    "lines=[]\n",
    "f = open('%s' %a, 'r', encoding=\"utf-8\")\n",
    "lines = f.readlines()\n",
    "f.close()\n",
    "\n",
    "i = 1\n",
    "for line in lines:\n",
    "    print(\"%d번째 줄\" %i)\n",
    "    j = line.count(' ')+1\n",
    "    print(\"단어 수: %d개\" %j)\n",
    "    print(\"\",line)\n",
    "    i=i+1"
   ]
  },
  {
   "cell_type": "code",
   "execution_count": null,
   "id": "1b71859a",
   "metadata": {},
   "outputs": [],
   "source": []
  },
  {
   "cell_type": "code",
   "execution_count": null,
   "id": "11c2424a",
   "metadata": {},
   "outputs": [],
   "source": []
  }
 ],
 "metadata": {
  "kernelspec": {
   "display_name": "Python 3",
   "language": "python",
   "name": "python3"
  },
  "language_info": {
   "codemirror_mode": {
    "name": "ipython",
    "version": 3
   },
   "file_extension": ".py",
   "mimetype": "text/x-python",
   "name": "python",
   "nbconvert_exporter": "python",
   "pygments_lexer": "ipython3",
   "version": "3.9.4"
  }
 },
 "nbformat": 4,
 "nbformat_minor": 5
}
