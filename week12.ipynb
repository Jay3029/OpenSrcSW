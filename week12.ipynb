{
 "cells": [
  {
   "cell_type": "code",
   "execution_count": 44,
   "id": "8151efdb",
   "metadata": {},
   "outputs": [
    {
     "name": "stdout",
     "output_type": "stream",
     "text": [
      "일교차가 가장 큰 날 2020-05-06 16.5\n",
      "최저기온이 가장 낮은 날  999\n",
      "최고기온이 가장 높은 날  -999\n"
     ]
    }
   ],
   "source": [
    "# 실습 1\n",
    "import csv\n",
    "f = open('seoul.csv','r',encoding='cp949')\n",
    "data = csv.reader(f)\n",
    "header = next(data)\n",
    "\n",
    "# 일교차가 가장 큰 날\n",
    "max_diff = 0\n",
    "diff_date = ''\n",
    "\n",
    "new_data1 = data\n",
    "for row in new_data1:\n",
    "    row[3] = float(row[3])\n",
    "    row[4] = float(row[4])\n",
    "    diff = row[4]-row[3]\n",
    "    if diff > max_diff:\n",
    "        max_diff = diff\n",
    "        diff_date = row[0]\n",
    "\n",
    "print('일교차가 가장 큰 날',diff_date,max_diff)\n",
    "\n",
    "# 최저기온이 가장 낮은 날\n",
    "min_temp = 999\n",
    "min_date = ''\n",
    "\n",
    "new_data2 = data\n",
    "for row in new_data2:\n",
    "    row[3] = float(row[3])\n",
    "    if row[3] < min_temp:\n",
    "        min_temp = row[3]\n",
    "        min_date = row[0]\n",
    "\n",
    "print('최저기온이 가장 낮은 날',min_date,min_temp)\n",
    "\n",
    "max_temp = -999\n",
    "max_date = ''\n",
    "\n",
    "new_data3 = data\n",
    "for row in new_data3:\n",
    "    row[4] = float(row[4])\n",
    "    if row[4] > max_temp:\n",
    "        max_temp = row[4]\n",
    "        max_date = row[0]\n",
    "\n",
    "print('최고기온이 가장 높은 날',max_date,max_temp)\n",
    "\n",
    "f.close()"
   ]
  },
  {
   "cell_type": "code",
   "execution_count": 20,
   "id": "393601c7",
   "metadata": {},
   "outputs": [
    {
     "name": "stdout",
     "output_type": "stream",
     "text": [
      "이용객이 가장 많은 역 순위\n",
      "1 강남 (3167883)\n",
      "2 신림 (2799927)\n",
      "3 잠실(송파구청) (2669433)\n",
      "이용객이 가장 적은 역 순위\n",
      "1 계양 (2)\n",
      "2 신내 (3)\n",
      "3 지축 (4)\n"
     ]
    }
   ],
   "source": [
    "# 실습 2\n",
    "import csv\n",
    "f = open('지하철통계.csv','r',encoding='cp949')\n",
    "data = csv.reader(f)\n",
    "header = next(data)\n",
    "\n",
    "new_data = data\n",
    "\n",
    "list=[]\n",
    "\n",
    "for row in new_data:\n",
    "    row[4]=row[4].replace(',','')\n",
    "    row[5]=row[5].replace(',','')\n",
    "    row[4]=int(row[4])\n",
    "    row[5]=int(row[5])\n",
    "    row[4]=row[4]+row[5]\n",
    "    list.append(row)\n",
    "\n",
    "new_list1 = sorted(list, key=lambda x: -x[4])\n",
    "new_list2 = sorted(list, key=lambda x: x[4])\n",
    "\n",
    "print('이용객이 가장 많은 역 순위')\n",
    "print('1',new_list1[0][3],'(%d)'%new_list1[0][4])\n",
    "print('2',new_list1[1][3],'(%d)'%new_list1[1][4])\n",
    "print('3',new_list1[2][3],'(%d)'%new_list1[2][4])\n",
    "\n",
    "print('이용객이 가장 적은 역 순위')\n",
    "print('1',new_list2[0][3],'(%d)'%new_list2[0][4])\n",
    "print('2',new_list2[1][3],'(%d)'%new_list2[1][4])\n",
    "print('3',new_list2[2][3],'(%d)'%new_list2[2][4])\n",
    "\n",
    "f.close()"
   ]
  },
  {
   "cell_type": "code",
   "execution_count": null,
   "id": "e0c7f65a",
   "metadata": {},
   "outputs": [],
   "source": []
  },
  {
   "cell_type": "code",
   "execution_count": null,
   "id": "3c837573",
   "metadata": {},
   "outputs": [],
   "source": []
  }
 ],
 "metadata": {
  "kernelspec": {
   "display_name": "Python 3",
   "language": "python",
   "name": "python3"
  },
  "language_info": {
   "codemirror_mode": {
    "name": "ipython",
    "version": 3
   },
   "file_extension": ".py",
   "mimetype": "text/x-python",
   "name": "python",
   "nbconvert_exporter": "python",
   "pygments_lexer": "ipython3",
   "version": "3.9.4"
  }
 },
 "nbformat": 4,
 "nbformat_minor": 5
}
