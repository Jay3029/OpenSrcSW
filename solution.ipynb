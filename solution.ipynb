{
 "cells": [
  {
   "cell_type": "code",
   "execution_count": null,
   "id": "05575e74",
   "metadata": {},
   "outputs": [],
   "source": [
    "#문제 1\n",
    "class Point:\n",
    "    \n",
    "    \n",
    "a=Point(1,2)\n",
    "a.show()\n",
    "b=Point(3,4)\n",
    "b.show()\n",
    "\n",
    "a=a+b\n",
    "a.show()"
   ]
  },
  {
   "cell_type": "code",
   "execution_count": 38,
   "id": "f64a428b",
   "metadata": {},
   "outputs": [
    {
     "name": "stdout",
     "output_type": "stream",
     "text": [
      "Max Week= 5/8~5/14\n"
     ]
    }
   ],
   "source": [
    "#문제 2\n",
    "import csv\n",
    "f = open('seoul.csv','r',encoding='cp949')\n",
    "data = csv.reader(f)\n",
    "header = next(data)\n",
    "\n",
    "A=[]\n",
    "\n",
    "# 일교차가 가장 큰 날\n",
    "new_data1 = data\n",
    "for row in data:\n",
    "    row[3] = float(row[3])\n",
    "    row[4] = float(row[4])\n",
    "    diff = row[4]-row[3]\n",
    "    A.append(diff)\n",
    "\n",
    "temp=[0,0,0,0,0]\n",
    "week=['5/1~5/7','5/8~5/14','5/15~5/21','5/22~5/28','5/29~5/31']\n",
    "\n",
    "for i in range(len(A)):\n",
    "    if i<7:\n",
    "        temp[0]+=A[i]\n",
    "    if 7<=i<14:\n",
    "        temp[1]+=A[i]\n",
    "    if 14<=i<21:\n",
    "        temp[2]+=A[i]\n",
    "    if 21<=i<28:\n",
    "        temp[3]+=A[i]\n",
    "    if 28<=i:\n",
    "        temp[4]+=A[i]\n",
    "\n",
    "for i in range(0,4):\n",
    "    if i==0:\n",
    "        max=temp[i]\n",
    "    if max<temp[i]:\n",
    "        max=temp[i]\n",
    "        max_week=week[i]\n",
    "\n",
    "print('Max Week =',max_week)"
   ]
  },
  {
   "cell_type": "code",
   "execution_count": null,
   "id": "d6ddde36",
   "metadata": {},
   "outputs": [],
   "source": [
    "#문제 3\n",
    "import csv\n",
    "import numpy as np\n",
    "import pandas as pd\n",
    "import matplotlib.pyplot as plt\n",
    "\n",
    "Docs=[1 1 0 1 1 0 1\n",
    "     1 1 1 0 1 0\n",
    "     1 1 0 1 0 0]\n",
    "Query=[1 1 0 0 1 0]\n",
    "\n",
    "Cos(Docs,Query)=Docs"
   ]
  },
  {
   "cell_type": "code",
   "execution_count": null,
   "id": "087c9031",
   "metadata": {},
   "outputs": [],
   "source": []
  }
 ],
 "metadata": {
  "kernelspec": {
   "display_name": "Python 3",
   "language": "python",
   "name": "python3"
  },
  "language_info": {
   "codemirror_mode": {
    "name": "ipython",
    "version": 3
   },
   "file_extension": ".py",
   "mimetype": "text/x-python",
   "name": "python",
   "nbconvert_exporter": "python",
   "pygments_lexer": "ipython3",
   "version": "3.9.4"
  }
 },
 "nbformat": 4,
 "nbformat_minor": 5
}
