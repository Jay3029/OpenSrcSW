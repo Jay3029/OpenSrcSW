{
 "cells": [
  {
   "cell_type": "code",
   "execution_count": 4,
   "id": "2f7d1763",
   "metadata": {},
   "outputs": [
    {
     "name": "stdout",
     "output_type": "stream",
     "text": [
      "x=1\n",
      "y= 11\n"
     ]
    }
   ],
   "source": [
    "# 실습 문제 1\n",
    "\n",
    "x=int(input(\"x=\"))\n",
    "y=3*x**2+5*x+3\n",
    "print(\"y=\", y)"
   ]
  },
  {
   "cell_type": "code",
   "execution_count": 5,
   "id": "b96d3404",
   "metadata": {},
   "outputs": [
    {
     "name": "stdout",
     "output_type": "stream",
     "text": [
      "r=2\n",
      "원의 둘레: 12.56\n",
      "원의 넓이: 12.56\n"
     ]
    }
   ],
   "source": [
    "# 실습 문제 2\n",
    "\n",
    "r=int(input(\"r=\"))\n",
    "pi=3.14\n",
    "a=r*2*pi\n",
    "b=r**2*pi\n",
    "print(\"원의 둘레:\",a)\n",
    "print(\"원의 넓이:\",b)"
   ]
  }
 ],
 "metadata": {
  "kernelspec": {
   "display_name": "Python 3",
   "language": "python",
   "name": "python3"
  },
  "language_info": {
   "codemirror_mode": {
    "name": "ipython",
    "version": 3
   },
   "file_extension": ".py",
   "mimetype": "text/x-python",
   "name": "python",
   "nbconvert_exporter": "python",
   "pygments_lexer": "ipython3",
   "version": "3.9.4"
  }
 },
 "nbformat": 4,
 "nbformat_minor": 5
}
